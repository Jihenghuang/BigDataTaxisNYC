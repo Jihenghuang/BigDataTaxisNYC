{
 "cells": [
  {
   "cell_type": "code",
   "execution_count": 102,
   "metadata": {
    "collapsed": true
   },
   "outputs": [],
   "source": [
    "import sys\n",
    "import datetime\n",
    "import geopandas as gp\n",
    "import numpy as np"
   ]
  },
  {
   "cell_type": "code",
   "execution_count": 59,
   "metadata": {
    "collapsed": true
   },
   "outputs": [],
   "source": [
    "zipcodes = gp.read_file('NYCzipcodeshapefile2.geojson')"
   ]
  },
  {
   "cell_type": "code",
   "execution_count": 13,
   "metadata": {
    "collapsed": false
   },
   "outputs": [
    {
     "name": "stdout",
     "output_type": "stream",
     "text": [
      "                                                 @id  BLDGpostalCode CTY_FIPS  \\\n",
      "0  http://nyc.pediacities.com/Resource/PostalCode...               0      081   \n",
      "1  http://nyc.pediacities.com/Resource/PostalCode...               0      081   \n",
      "2  http://nyc.pediacities.com/Resource/PostalCode...               0      081   \n",
      "3  http://nyc.pediacities.com/Resource/PostalCode...               0      081   \n",
      "4  http://nyc.pediacities.com/Resource/PostalCode...               0      081   \n",
      "\n",
      "   OBJECTID          PO_NAME STATE ST_FIPS    Shape_Area    Shape_Leng  \\\n",
      "0         1  Jackson Heights    NY      36  2.016328e+07  20624.692317   \n",
      "1         2        Glen Oaks    NY      36  2.260653e+07  23002.816039   \n",
      "2         3    New Hyde Park    NY      36  6.269333e+06  15749.161511   \n",
      "3         4        Bellerose    NY      36  4.941836e+07  35932.810639   \n",
      "4         5    Fresh Meadows    NY      36  6.938587e+07  38693.565676   \n",
      "\n",
      "  borough                                           geometry postalCode  \n",
      "0  Queens  POLYGON ((-73.86942457284175 40.74915687096787...      11372  \n",
      "1  Queens  POLYGON ((-73.71068374074007 40.75004039450917...      11004  \n",
      "2  Queens  POLYGON ((-73.70098278625547 40.73889569923034...      11040  \n",
      "3  Queens  POLYGON ((-73.72270447144122 40.75373371438336...      11426  \n",
      "4  Queens  POLYGON ((-73.81088634744755 40.72717187575918...      11365  \n"
     ]
    }
   ],
   "source": [
    "print zipcodes.head()"
   ]
  },
  {
   "cell_type": "code",
   "execution_count": 73,
   "metadata": {
    "collapsed": false
   },
   "outputs": [
    {
     "name": "stdout",
     "output_type": "stream",
     "text": [
      " @id               http://nyc.pediacities.com/Resource/PostalCode...\n",
      "BLDGpostalCode                                                    0\n",
      "CTY_FIPS                                                        061\n",
      "OBJECTID                                                        262\n",
      "PO_NAME                                                    New York\n",
      "STATE                                                            NY\n",
      "ST_FIPS                                                          36\n",
      "Shape_Area                                              1.56195e+06\n",
      "Shape_Leng                                                  6083.87\n",
      "borough                                                   Manhattan\n",
      "geometry          POLYGON ((-74.01322730659011 40.71832262621834...\n",
      "postalCode                                                    10282\n",
      "Name: 261, dtype: object\n"
     ]
    }
   ],
   "source": [
    "print zipcodes.iloc[261, :]"
   ]
  },
  {
   "cell_type": "code",
   "execution_count": 8,
   "metadata": {
    "collapsed": false
   },
   "outputs": [],
   "source": [
    "f=open('taxisampledata.csv', 'r')\n",
    "g=open('bikesampledata.csv', 'r')\n",
    "#z = open('professors.txt', 'r')"
   ]
  },
  {
   "cell_type": "code",
   "execution_count": 80,
   "metadata": {
    "collapsed": false,
    "scrolled": true
   },
   "outputs": [
    {
     "name": "stdout",
     "output_type": "stream",
     "text": [
      "115\n",
      "1\t10016\t10017\t239.0\n",
      "114\n",
      "1\t10011\t10003\t270.0\n",
      "105\n",
      "1\t10036\t10022\t1434.0\n",
      "74\n",
      "1\t10024\t10001\t1185.0\n"
     ]
    }
   ],
   "source": [
    "#f = open('yellow_tripdata_2015-01.csv', 'r')\n",
    "f = open('taxisampledata.csv', 'r')\n",
    "g = open('bikesampledata.csv', 'r')\n",
    "#z = open('professors.txt', 'r') \n",
    "def map(myfile):\n",
    "    count = 0\n",
    "    for line in myfile.readlines():\n",
    "        l = line.split(',')\n",
    "        \n",
    "        #Taxi\n",
    "        if ((len(l) == 19) & (l[0] != 'VendorID') & (count <= 3)):\n",
    "\n",
    "            #Origin:\n",
    "            pt_origin = gp.geoseries.Point(float(l[5]),float(l[6])) # column order\n",
    "            pickup_time = datetime.datetime.strptime(l[1],\"%Y-%m-%d %H:%M:%S\")\n",
    "            dropoff_time = datetime.datetime.strptime(l[2],\"%Y-%m-%d %H:%M:%S\")\n",
    "            c = dropoff_time - pickup_time\n",
    "            trip_duration = c.total_seconds()\n",
    "            #trip_duration2 = divmod(c.days * 86400 + c.seconds, 60)\n",
    "            #print \"%s \\t %d\" % (pt_origin, 1)\n",
    "            \n",
    "#             for x,z in enumerate(zipcodes['geometry']):\n",
    "#                 if pt_origin.intersects(z):\n",
    "#                     zip_origin = zipcodes['postalCode']\n",
    "#                     print len(zip_origin)\n",
    "#break\n",
    "            \n",
    "            for x, z in enumerate(zipcodes['geometry']):\n",
    "                if pt_origin.intersects(z):\n",
    "                    print x\n",
    "                    zip_origin = zipcodes['postalCode'][x]\n",
    "                    #print zip_origin\n",
    "                    break\n",
    "            \n",
    "            #Destination:\n",
    "            pt_destin = gp.geoseries.Point(float(l[9]),float(l[10]))\n",
    "            for x, z in enumerate(zipcodes['geometry']):\n",
    "                if pt_destin.intersects(z):\n",
    "                    zip_destin = zipcodes['postalCode'][x]\n",
    "                    #print zip_destin\n",
    "                    break\n",
    "            \n",
    "            print \"%s\\t%s\\t%s\\t%s\" %('1', zip_origin, zip_destin, trip_duration)\n",
    "            #print \"%s\\t%s\\t%s\\t%s\\t%s\" %('1', zip_origin, zip_destin, trip_duration, trip_duration2)\n",
    "            #print type(trip_duration)\n",
    "#             l.append([zip_origin, zip_destin])\n",
    "#             print l\n",
    "            count += 1\n",
    "    \n",
    "        #Citibike\n",
    "        if ((len(l) == 15) & (l[0] != 'tripduration') & (count <= 3)):\n",
    "            #print l\n",
    "\n",
    "            #Origin:\n",
    "            pt_origin = gp.geoseries.Point(float(l[6]),float(l[5]))\n",
    "            #pickup_time = datetime.datetime.strptime(l[1],\"%Y-%m-%d %H:%M:%S\")\n",
    "            #dropoff_time = datetime.datetime.strptime(l[2],\"%Y-%m-%d %H:%M:%S\")\n",
    "            #c = dropoff_time - pickup_time\n",
    "            #trip_duration = divmod(c.days * 86400 + c.seconds, 60)\n",
    "            #print \"%s \\t %d\" % (pt_origin, 1)\n",
    "            \n",
    "#             for x,z in enumerate(zipcodes['geometry']):\n",
    "#                 if pt_origin.intersects(z):\n",
    "#                     zip_origin = zipcodes['postalCode']\n",
    "#                     print len(zip_origin)\n",
    "            #break\n",
    "            \n",
    "            for x, z in enumerate(zipcodes['geometry']):\n",
    "                if pt_origin.intersects(z):\n",
    "                    zip_origin = zipcodes['postalCode'][x]\n",
    "                    #print zip_origin\n",
    "                    break\n",
    "            \n",
    "            #Destination:\n",
    "            pt_destin = gp.geoseries.Point(float(l[10]),float(l[9]))\n",
    "            for x, z in enumerate(zipcodes['geometry']):\n",
    "                if pt_destin.intersects(z):\n",
    "                    zip_destin = zipcodes['postalCode'][x]\n",
    "                    #print zip_destin\n",
    "                    break\n",
    "                    \n",
    "            print \"%s\\t%s\\t%s\\t%s\" %('2', zip_origin, zip_destin, l[0])\n",
    "#             #print type(trip_duration)\n",
    "#             l.append([zip_origin, zip_destin])\n",
    "#             print l\n",
    "            count += 1\n",
    "            \n",
    "map(f)"
   ]
  },
  {
   "cell_type": "code",
   "execution_count": 114,
   "metadata": {
    "collapsed": false
   },
   "outputs": [
    {
     "ename": "ValueError",
     "evalue": "fmt has wrong number of % formats:  %s %s %s %s",
     "output_type": "error",
     "traceback": [
      "\u001b[1;31m---------------------------------------------------------------------------\u001b[0m",
      "\u001b[1;31mValueError\u001b[0m                                Traceback (most recent call last)",
      "\u001b[1;32m<ipython-input-114-5bb5e8215a05>\u001b[0m in \u001b[0;36m<module>\u001b[1;34m()\u001b[0m\n\u001b[0;32m    109\u001b[0m         \u001b[0mnp\u001b[0m\u001b[1;33m.\u001b[0m\u001b[0msavetxt\u001b[0m\u001b[1;33m(\u001b[0m\u001b[1;34m'ReducerBikeTestSet.csv'\u001b[0m\u001b[1;33m,\u001b[0m \u001b[1;33m(\u001b[0m\u001b[0mmode\u001b[0m\u001b[1;33m,\u001b[0m \u001b[0mz_ori\u001b[0m\u001b[1;33m,\u001b[0m \u001b[0mz_des\u001b[0m\u001b[1;33m,\u001b[0m \u001b[0mt\u001b[0m\u001b[1;33m)\u001b[0m\u001b[1;33m,\u001b[0m \u001b[0mfmt\u001b[0m \u001b[1;33m=\u001b[0m \u001b[1;34m'%s %s %s %s'\u001b[0m\u001b[1;33m,\u001b[0m \u001b[0mdelimiter\u001b[0m\u001b[1;33m=\u001b[0m\u001b[1;34m','\u001b[0m\u001b[1;33m)\u001b[0m\u001b[1;33m\u001b[0m\u001b[0m\n\u001b[0;32m    110\u001b[0m \u001b[1;33m\u001b[0m\u001b[0m\n\u001b[1;32m--> 111\u001b[1;33m \u001b[0mmap\u001b[0m\u001b[1;33m(\u001b[0m\u001b[0mg\u001b[0m\u001b[1;33m)\u001b[0m\u001b[1;33m\u001b[0m\u001b[0m\n\u001b[0m",
      "\u001b[1;32m<ipython-input-114-5bb5e8215a05>\u001b[0m in \u001b[0;36mmap\u001b[1;34m(myfile)\u001b[0m\n\u001b[0;32m     63\u001b[0m \u001b[1;33m\u001b[0m\u001b[0m\n\u001b[0;32m     64\u001b[0m             \u001b[0mcount\u001b[0m \u001b[1;33m+=\u001b[0m \u001b[1;36m1\u001b[0m\u001b[1;33m\u001b[0m\u001b[0m\n\u001b[1;32m---> 65\u001b[1;33m         \u001b[0mnp\u001b[0m\u001b[1;33m.\u001b[0m\u001b[0msavetxt\u001b[0m\u001b[1;33m(\u001b[0m\u001b[1;34m'ReducerTaxiTestSet.csv'\u001b[0m\u001b[1;33m,\u001b[0m \u001b[1;33m(\u001b[0m\u001b[0mmode\u001b[0m\u001b[1;33m,\u001b[0m \u001b[0mz_ori\u001b[0m\u001b[1;33m,\u001b[0m \u001b[0mz_des\u001b[0m\u001b[1;33m,\u001b[0m \u001b[0mt\u001b[0m\u001b[1;33m)\u001b[0m\u001b[1;33m,\u001b[0m \u001b[0mfmt\u001b[0m \u001b[1;33m=\u001b[0m \u001b[1;34m'%s %s %s %s'\u001b[0m\u001b[1;33m,\u001b[0m \u001b[0mdelimiter\u001b[0m\u001b[1;33m=\u001b[0m\u001b[1;34m','\u001b[0m\u001b[1;33m)\u001b[0m\u001b[1;33m\u001b[0m\u001b[0m\n\u001b[0m\u001b[0;32m     66\u001b[0m \u001b[1;33m\u001b[0m\u001b[0m\n\u001b[0;32m     67\u001b[0m         \u001b[1;31m#Citibike\u001b[0m\u001b[1;33m\u001b[0m\u001b[1;33m\u001b[0m\u001b[0m\n",
      "\u001b[1;32mC:\\Users\\jhuan\\Anaconda2\\lib\\site-packages\\numpy\\lib\\npyio.pyc\u001b[0m in \u001b[0;36msavetxt\u001b[1;34m(fname, X, fmt, delimiter, newline, header, footer, comments)\u001b[0m\n\u001b[0;32m   1137\u001b[0m                 \u001b[1;32mraise\u001b[0m \u001b[0merror\u001b[0m\u001b[1;33m\u001b[0m\u001b[0m\n\u001b[0;32m   1138\u001b[0m             \u001b[1;32melif\u001b[0m \u001b[1;33m(\u001b[0m\u001b[1;33m(\u001b[0m\u001b[1;32mnot\u001b[0m \u001b[0miscomplex_X\u001b[0m\u001b[1;33m)\u001b[0m \u001b[1;32mand\u001b[0m \u001b[0mn_fmt_chars\u001b[0m \u001b[1;33m!=\u001b[0m \u001b[0mncol\u001b[0m\u001b[1;33m)\u001b[0m\u001b[1;33m:\u001b[0m\u001b[1;33m\u001b[0m\u001b[0m\n\u001b[1;32m-> 1139\u001b[1;33m                 \u001b[1;32mraise\u001b[0m \u001b[0merror\u001b[0m\u001b[1;33m\u001b[0m\u001b[0m\n\u001b[0m\u001b[0;32m   1140\u001b[0m             \u001b[1;32melse\u001b[0m\u001b[1;33m:\u001b[0m\u001b[1;33m\u001b[0m\u001b[0m\n\u001b[0;32m   1141\u001b[0m                 \u001b[0mformat\u001b[0m \u001b[1;33m=\u001b[0m \u001b[0mfmt\u001b[0m\u001b[1;33m\u001b[0m\u001b[0m\n",
      "\u001b[1;31mValueError\u001b[0m: fmt has wrong number of % formats:  %s %s %s %s"
     ]
    }
   ],
   "source": [
    "#Create Sample Test file for reducer function:\n",
    "\n",
    "\n",
    "#f = open('yellow_tripdata_2015-01.csv', 'r')\n",
    "f = open('taxisampledata.csv', 'r')\n",
    "g = open('201501-citibike-tripdata.csv', 'r')\n",
    "#z = open('professors.txt', 'r') \n",
    "\n",
    "mode = []\n",
    "z_ori = []\n",
    "z_des = []\n",
    "t= []\n",
    "\n",
    "def map(myfile):\n",
    "    count = 0\n",
    "    for line in myfile.readlines():\n",
    "        l = line.split(',')\n",
    "        \n",
    "        #Taxi\n",
    "        if ((len(l) == 19) & (l[0] != 'VendorID') & (count <= 10000)):\n",
    "\n",
    "            #Origin:\n",
    "            pt_origin = gp.geoseries.Point(float(l[5]),float(l[6])) # column order\n",
    "            pickup_time = datetime.datetime.strptime(l[1],\"%Y-%m-%d %H:%M:%S\")\n",
    "            dropoff_time = datetime.datetime.strptime(l[2],\"%Y-%m-%d %H:%M:%S\")\n",
    "            c = dropoff_time - pickup_time\n",
    "            trip_duration = c.total_seconds()\n",
    "            #trip_duration2 = divmod(c.days * 86400 + c.seconds, 60)\n",
    "            #print \"%s \\t %d\" % (pt_origin, 1)\n",
    "            \n",
    "#             for x,z in enumerate(zipcodes['geometry']):\n",
    "#                 if pt_origin.intersects(z):\n",
    "#                     zip_origin = zipcodes['postalCode']\n",
    "#                     print len(zip_origin)\n",
    "#break\n",
    "            \n",
    "            for x, z in enumerate(zipcodes['geometry']):\n",
    "                if pt_origin.intersects(z):\n",
    "                    print x\n",
    "                    zip_origin = zipcodes['postalCode'][x]\n",
    "                    #print zip_origin\n",
    "                    break\n",
    "            \n",
    "            #Destination:\n",
    "            pt_destin = gp.geoseries.Point(float(l[9]),float(l[10]))\n",
    "            for x, z in enumerate(zipcodes['geometry']):\n",
    "                if pt_destin.intersects(z):\n",
    "                    zip_destin = zipcodes['postalCode'][x]\n",
    "                    #print zip_destin\n",
    "                    break\n",
    "            \n",
    "            print \"%s\\t%s\\t%s\\t%s\" %('1', zip_origin, zip_destin, trip_duration)\n",
    "            #print \"%s\\t%s\\t%s\\t%s\\t%s\" %('1', zip_origin, zip_destin, trip_duration, trip_duration2)\n",
    "            #print type(trip_duration)\n",
    "#             l.append([zip_origin, zip_destin])\n",
    "#             print l\n",
    "\n",
    "            mode.append(1)\n",
    "            z_ori.append(zip_origin)\n",
    "            z_des.append(zip_destin)\n",
    "            t.append(trip_duration)\n",
    "            \n",
    "\n",
    "            count += 1\n",
    "        np.savetxt('ReducerTaxiTestSet.csv', (mode, z_ori, z_des, t), fmt = '%s %s %s %s', delimiter=',')     \n",
    "    \n",
    "        #Citibike\n",
    "        if ((len(l) == 15) & (l[0] != 'tripduration') & (count <= 10000)):\n",
    "            #print l\n",
    "\n",
    "            #Origin:\n",
    "            pt_origin = gp.geoseries.Point(float(l[6]),float(l[5]))\n",
    "            #pickup_time = datetime.datetime.strptime(l[1],\"%Y-%m-%d %H:%M:%S\")\n",
    "            #dropoff_time = datetime.datetime.strptime(l[2],\"%Y-%m-%d %H:%M:%S\")\n",
    "            #c = dropoff_time - pickup_time\n",
    "            #trip_duration = divmod(c.days * 86400 + c.seconds, 60)\n",
    "            #print \"%s \\t %d\" % (pt_origin, 1)\n",
    "            \n",
    "#             for x,z in enumerate(zipcodes['geometry']):\n",
    "#                 if pt_origin.intersects(z):\n",
    "#                     zip_origin = zipcodes['postalCode']\n",
    "#                     print len(zip_origin)\n",
    "            #break\n",
    "            \n",
    "            for x, z in enumerate(zipcodes['geometry']):\n",
    "                if pt_origin.intersects(z):\n",
    "                    zip_origin = zipcodes['postalCode'][x]\n",
    "                    #print zip_origin\n",
    "                    break\n",
    "            \n",
    "            #Destination:\n",
    "            pt_destin = gp.geoseries.Point(float(l[10]),float(l[9]))\n",
    "            for x, z in enumerate(zipcodes['geometry']):\n",
    "                if pt_destin.intersects(z):\n",
    "                    zip_destin = zipcodes['postalCode'][x]\n",
    "                    #print zip_destin\n",
    "                    break\n",
    "                    \n",
    "            print \"%s\\t%s\\t%s\\t%s\" %('2', zip_origin, zip_destin, l[0])\n",
    "#             #print type(trip_duration)\n",
    "#             l.append([zip_origin, zip_destin])\n",
    "#             print l\n",
    "            count += 1\n",
    "            mode.append(2)\n",
    "            z_ori.append(zip_origin)\n",
    "            z_des.append(zip_destin)\n",
    "            t.append(l[0])\n",
    "            \n",
    "        np.savetxt('ReducerBikeTestSet.csv', (mode, z_ori, z_des, t), fmt = '%s %s %s %s', delimiter=',')  \n",
    "            \n",
    "map(g)"
   ]
  },
  {
   "cell_type": "code",
   "execution_count": 101,
   "metadata": {
    "collapsed": false,
    "scrolled": true
   },
   "outputs": [],
   "source": [
    "#Test 3\n",
    "import numpy as np\n",
    "col1_array = [1, 2, 3, 4]\n",
    "col2_array = [3, 2, 3, 4]\n",
    "col3_array = [5, 2, 3, 4]\n",
    "\n",
    "np.savetxt('data.csv', (col1_array, col2_array, col3_array), fmt = '%d', delimiter=',')"
   ]
  }
 ],
 "metadata": {
  "kernelspec": {
   "display_name": "Python 2",
   "language": "python",
   "name": "python2"
  },
  "language_info": {
   "codemirror_mode": {
    "name": "ipython",
    "version": 2
   },
   "file_extension": ".py",
   "mimetype": "text/x-python",
   "name": "python",
   "nbconvert_exporter": "python",
   "pygments_lexer": "ipython2",
   "version": "2.7.11"
  }
 },
 "nbformat": 4,
 "nbformat_minor": 0
}
