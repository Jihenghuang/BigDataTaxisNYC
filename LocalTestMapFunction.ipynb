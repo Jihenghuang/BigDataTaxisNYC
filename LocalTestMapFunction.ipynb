{
 "cells": [
  {
   "cell_type": "code",
   "execution_count": 6,
   "metadata": {
    "collapsed": true
   },
   "outputs": [],
   "source": [
    "import sys\n",
    "import datetime\n",
    "import geopandas as gp"
   ]
  },
  {
   "cell_type": "code",
   "execution_count": 59,
   "metadata": {
    "collapsed": true
   },
   "outputs": [],
   "source": [
    "zipcodes = gp.read_file('NYCzipcodeshapefile2.geojson')"
   ]
  },
  {
   "cell_type": "code",
   "execution_count": 13,
   "metadata": {
    "collapsed": false
   },
   "outputs": [
    {
     "name": "stdout",
     "output_type": "stream",
     "text": [
      "                                                 @id  BLDGpostalCode CTY_FIPS  \\\n",
      "0  http://nyc.pediacities.com/Resource/PostalCode...               0      081   \n",
      "1  http://nyc.pediacities.com/Resource/PostalCode...               0      081   \n",
      "2  http://nyc.pediacities.com/Resource/PostalCode...               0      081   \n",
      "3  http://nyc.pediacities.com/Resource/PostalCode...               0      081   \n",
      "4  http://nyc.pediacities.com/Resource/PostalCode...               0      081   \n",
      "\n",
      "   OBJECTID          PO_NAME STATE ST_FIPS    Shape_Area    Shape_Leng  \\\n",
      "0         1  Jackson Heights    NY      36  2.016328e+07  20624.692317   \n",
      "1         2        Glen Oaks    NY      36  2.260653e+07  23002.816039   \n",
      "2         3    New Hyde Park    NY      36  6.269333e+06  15749.161511   \n",
      "3         4        Bellerose    NY      36  4.941836e+07  35932.810639   \n",
      "4         5    Fresh Meadows    NY      36  6.938587e+07  38693.565676   \n",
      "\n",
      "  borough                                           geometry postalCode  \n",
      "0  Queens  POLYGON ((-73.86942457284175 40.74915687096787...      11372  \n",
      "1  Queens  POLYGON ((-73.71068374074007 40.75004039450917...      11004  \n",
      "2  Queens  POLYGON ((-73.70098278625547 40.73889569923034...      11040  \n",
      "3  Queens  POLYGON ((-73.72270447144122 40.75373371438336...      11426  \n",
      "4  Queens  POLYGON ((-73.81088634744755 40.72717187575918...      11365  \n"
     ]
    }
   ],
   "source": [
    "print zipcodes.head()"
   ]
  },
  {
   "cell_type": "code",
   "execution_count": 73,
   "metadata": {
    "collapsed": false
   },
   "outputs": [
    {
     "name": "stdout",
     "output_type": "stream",
     "text": [
      " @id               http://nyc.pediacities.com/Resource/PostalCode...\n",
      "BLDGpostalCode                                                    0\n",
      "CTY_FIPS                                                        061\n",
      "OBJECTID                                                        262\n",
      "PO_NAME                                                    New York\n",
      "STATE                                                            NY\n",
      "ST_FIPS                                                          36\n",
      "Shape_Area                                              1.56195e+06\n",
      "Shape_Leng                                                  6083.87\n",
      "borough                                                   Manhattan\n",
      "geometry          POLYGON ((-74.01322730659011 40.71832262621834...\n",
      "postalCode                                                    10282\n",
      "Name: 261, dtype: object\n"
     ]
    }
   ],
   "source": [
    "print zipcodes.iloc[261, :]"
   ]
  },
  {
   "cell_type": "code",
   "execution_count": 8,
   "metadata": {
    "collapsed": false
   },
   "outputs": [],
   "source": [
    "f=open('taxisampledata.csv', 'r')\n",
    "g=open('bikesampledata.csv', 'r')\n",
    "#z = open('professors.txt', 'r')"
   ]
  },
  {
   "cell_type": "code",
   "execution_count": 76,
   "metadata": {
    "collapsed": false,
    "scrolled": true
   },
   "outputs": [
    {
     "name": "stdout",
     "output_type": "stream",
     "text": [
      "10017\n",
      "2\t10017\t10002\t1346\n",
      "10011\n",
      "2\t10011\t10011\t363\n",
      "10010\n",
      "2\t10010\t10001\t346\n",
      "11238\n",
      "2\t11238\t11205\t182\n"
     ]
    }
   ],
   "source": [
    "#f = open('yellow_tripdata_2015-01.csv', 'r')\n",
    "f = open('taxisampledata.csv', 'r')\n",
    "g = open('bikesampledata.csv', 'r')\n",
    "#z = open('professors.txt', 'r') \n",
    "def map(myfile):\n",
    "    count = 0\n",
    "    for line in myfile.readlines():\n",
    "        l = line.split(',')\n",
    "        \n",
    "        #Taxi\n",
    "        if ((len(l) == 19) & (l[0] != 'VendorID') & (count <= 3)):\n",
    "\n",
    "            #Origin:\n",
    "            pt_origin = gp.geoseries.Point(float(l[5]),float(l[6])) # column order\n",
    "            pickup_time = datetime.datetime.strptime(l[1],\"%Y-%m-%d %H:%M:%S\")\n",
    "            dropoff_time = datetime.datetime.strptime(l[2],\"%Y-%m-%d %H:%M:%S\")\n",
    "            c = dropoff_time - pickup_time\n",
    "            trip_duration = divmod(c.days * 86400 + c.seconds, 60)\n",
    "            #print \"%s \\t %d\" % (pt_origin, 1)\n",
    "            \n",
    "#             for x,z in enumerate(zipcodes['geometry']):\n",
    "#                 if pt_origin.intersects(z):\n",
    "#                     zip_origin = zipcodes['postalCode']\n",
    "#                     print len(zip_origin)\n",
    "#break\n",
    "            \n",
    "            for x, z in enumerate(zipcodes['geometry']):\n",
    "                if pt_origin.intersects(z):\n",
    "                    print x\n",
    "                    zip_origin = zipcodes['postalCode'][x]\n",
    "                    #print zip_origin\n",
    "                    break\n",
    "            \n",
    "            #Destination:\n",
    "            pt_destin = gp.geoseries.Point(float(l[9]),float(l[10]))\n",
    "            for x, z in enumerate(zipcodes['geometry']):\n",
    "                if pt_destin.intersects(z):\n",
    "                    zip_destin = zipcodes['postalCode'][x]\n",
    "                    #print zip_destin\n",
    "                    break\n",
    "                    \n",
    "            print \"%s\\t%s\\t%s\\t%s\" %('1', zip_origin, zip_destin, trip_duration)\n",
    "            #print type(trip_duration)\n",
    "#             l.append([zip_origin, zip_destin])\n",
    "#             print l\n",
    "            count += 1\n",
    "    \n",
    "        #Citibike\n",
    "        if ((len(l) == 15) & (l[0] != 'tripduration') & (count <= 3)):\n",
    "            #print l\n",
    "\n",
    "            #Origin:\n",
    "            pt_origin = gp.geoseries.Point(float(l[6]),float(l[5]))\n",
    "            #pickup_time = datetime.datetime.strptime(l[1],\"%Y-%m-%d %H:%M:%S\")\n",
    "            #dropoff_time = datetime.datetime.strptime(l[2],\"%Y-%m-%d %H:%M:%S\")\n",
    "            #c = dropoff_time - pickup_time\n",
    "            #trip_duration = divmod(c.days * 86400 + c.seconds, 60)\n",
    "            #print \"%s \\t %d\" % (pt_origin, 1)\n",
    "            \n",
    "#             for x,z in enumerate(zipcodes['geometry']):\n",
    "#                 if pt_origin.intersects(z):\n",
    "#                     zip_origin = zipcodes['postalCode']\n",
    "#                     print len(zip_origin)\n",
    "            #break\n",
    "            \n",
    "            for x, z in enumerate(zipcodes['geometry']):\n",
    "                if pt_origin.intersects(z):\n",
    "                    zip_origin = zipcodes['postalCode'][x]\n",
    "                    #print zip_origin\n",
    "                    break\n",
    "            \n",
    "            #Destination:\n",
    "            pt_destin = gp.geoseries.Point(float(l[10]),float(l[9]))\n",
    "            for x, z in enumerate(zipcodes['geometry']):\n",
    "                if pt_destin.intersects(z):\n",
    "                    zip_destin = zipcodes['postalCode'][x]\n",
    "                    #print zip_destin\n",
    "                    break\n",
    "                    \n",
    "            print \"%s\\t%s\\t%s\\t%s\" %('2', zip_origin, zip_destin, l[0])\n",
    "#             #print type(trip_duration)\n",
    "#             l.append([zip_origin, zip_destin])\n",
    "#             print l\n",
    "            count += 1\n",
    "            \n",
    "map(g)"
   ]
  },
  {
   "cell_type": "code",
   "execution_count": 31,
   "metadata": {
    "collapsed": true
   },
   "outputs": [],
   "source": []
  }
 ],
 "metadata": {
  "kernelspec": {
   "display_name": "Python 2",
   "language": "python",
   "name": "python2"
  },
  "language_info": {
   "codemirror_mode": {
    "name": "ipython",
    "version": 2
   },
   "file_extension": ".py",
   "mimetype": "text/x-python",
   "name": "python",
   "nbconvert_exporter": "python",
   "pygments_lexer": "ipython2",
   "version": "2.7.11"
  }
 },
 "nbformat": 4,
 "nbformat_minor": 0
}
