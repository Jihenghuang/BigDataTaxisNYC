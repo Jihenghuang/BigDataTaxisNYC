{
 "cells": [
  {
   "cell_type": "code",
   "execution_count": 1,
   "metadata": {
    "collapsed": true
   },
   "outputs": [],
   "source": [
    "import pandas as pd\n",
    "import geopandas as gp"
   ]
  },
  {
   "cell_type": "code",
   "execution_count": 3,
   "metadata": {
    "collapsed": false
   },
   "outputs": [],
   "source": [
    "chunks1 = pd.read_csv('yellow_tripdata_2015-01.csv', chunksize = 5)\n",
    "chunks2 = pd.read_csv('201501-citibike-tripdata.csv', chunksize = 5)"
   ]
  },
  {
   "cell_type": "code",
   "execution_count": 4,
   "metadata": {
    "collapsed": false
   },
   "outputs": [
    {
     "name": "stdout",
     "output_type": "stream",
     "text": [
      "   VendorID tpep_pickup_datetime tpep_dropoff_datetime  passenger_count  \\\n",
      "0         2  2015-01-15 19:05:39   2015-01-15 19:23:42                1   \n",
      "1         1  2015-01-10 20:33:38   2015-01-10 20:53:28                1   \n",
      "2         1  2015-01-10 20:33:38   2015-01-10 20:43:41                1   \n",
      "3         1  2015-01-10 20:33:39   2015-01-10 20:35:31                1   \n",
      "4         1  2015-01-10 20:33:39   2015-01-10 20:52:58                1   \n",
      "\n",
      "   trip_distance  pickup_longitude  pickup_latitude  RateCodeID  \\\n",
      "0           1.59        -73.993896        40.750111           1   \n",
      "1           3.30        -74.001648        40.724243           1   \n",
      "2           1.80        -73.963341        40.802788           1   \n",
      "3           0.50        -74.009087        40.713818           1   \n",
      "4           3.00        -73.971176        40.762428           1   \n",
      "\n",
      "  store_and_fwd_flag  dropoff_longitude  dropoff_latitude  payment_type  \\\n",
      "0                  N         -73.974785         40.750618             1   \n",
      "1                  N         -73.994415         40.759109             1   \n",
      "2                  N         -73.951820         40.824413             2   \n",
      "3                  N         -74.004326         40.719986             2   \n",
      "4                  N         -74.004181         40.742653             2   \n",
      "\n",
      "   fare_amount  extra  mta_tax  tip_amount  tolls_amount  \\\n",
      "0         12.0    1.0      0.5        3.25             0   \n",
      "1         14.5    0.5      0.5        2.00             0   \n",
      "2          9.5    0.5      0.5        0.00             0   \n",
      "3          3.5    0.5      0.5        0.00             0   \n",
      "4         15.0    0.5      0.5        0.00             0   \n",
      "\n",
      "   improvement_surcharge  total_amount  \n",
      "0                    0.3         17.05  \n",
      "1                    0.3         17.80  \n",
      "2                    0.3         10.80  \n",
      "3                    0.3          4.80  \n",
      "4                    0.3         16.30  \n"
     ]
    }
   ],
   "source": [
    "for chunk in chunks1:\n",
    "    print chunk\n",
    "    break"
   ]
  },
  {
   "cell_type": "code",
   "execution_count": 5,
   "metadata": {
    "collapsed": false
   },
   "outputs": [
    {
     "name": "stdout",
     "output_type": "stream",
     "text": [
      "   tripduration      starttime       stoptime  start station id  \\\n",
      "0          1346  1/1/2015 0:01  1/1/2015 0:24               455   \n",
      "1           363  1/1/2015 0:02  1/1/2015 0:08               434   \n",
      "2           346  1/1/2015 0:04  1/1/2015 0:10               491   \n",
      "3           182  1/1/2015 0:04  1/1/2015 0:07               384   \n",
      "4           969  1/1/2015 0:05  1/1/2015 0:21               474   \n",
      "\n",
      "        start station name  start station latitude  start station longitude  \\\n",
      "0          1 Ave & E 44 St               40.750020               -73.969053   \n",
      "1          9 Ave & W 18 St               40.743174               -74.003664   \n",
      "2     E 24 St & Park Ave S               40.740964               -73.986022   \n",
      "3  Fulton St & Waverly Ave               40.683178               -73.965964   \n",
      "4          5 Ave & E 29 St               40.745168               -73.986831   \n",
      "\n",
      "   end station id             end station name  end station latitude  \\\n",
      "0             265     Stanton St & Chrystie St             40.722293   \n",
      "1             482              W 15 St & 7 Ave             40.739355   \n",
      "2             505              6 Ave & W 33 St             40.749013   \n",
      "3             399  Lafayette Ave & St James Pl             40.688515   \n",
      "4             432            E 7 St & Avenue A             40.726218   \n",
      "\n",
      "   end station longitude  bikeid    usertype  birth year  gender  \n",
      "0             -73.991475   18660  Subscriber        1960       2  \n",
      "1             -73.999318   16085  Subscriber        1963       1  \n",
      "2             -73.988484   20845  Subscriber        1974       1  \n",
      "3             -73.964763   19610  Subscriber        1969       1  \n",
      "4             -73.983799   20197  Subscriber        1977       1  \n"
     ]
    }
   ],
   "source": [
    "for chunk in chunks2:\n",
    "    print chunk\n",
    "    break"
   ]
  }
 ],
 "metadata": {
  "kernelspec": {
   "display_name": "Python 2",
   "language": "python",
   "name": "python2"
  },
  "language_info": {
   "codemirror_mode": {
    "name": "ipython",
    "version": 2
   },
   "file_extension": ".py",
   "mimetype": "text/x-python",
   "name": "python",
   "nbconvert_exporter": "python",
   "pygments_lexer": "ipython2",
   "version": "2.7.11"
  }
 },
 "nbformat": 4,
 "nbformat_minor": 0
}
